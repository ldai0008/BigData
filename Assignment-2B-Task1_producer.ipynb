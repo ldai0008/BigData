{
 "cells": [
  {
   "cell_type": "markdown",
   "metadata": {},
   "source": [
    "# 1. Producing the data (10%)"
   ]
  },
  {
   "cell_type": "markdown",
   "metadata": {},
   "source": [
    "Your program should send one batch of all sensor’s one day worth of records every 5\n",
    "seconds to the Kafka stream.\n",
    "- For example, for the first batch of data transmission, your program should send all\n",
    "sensors’ data captured on 2020-12-01 to the Kafka stream; after 5 seconds, your\n",
    "program should send all sensors’ data captured on 2020-12-02 to the Kafka stream,\n",
    "and so on."
   ]
  },
  {
   "cell_type": "code",
   "execution_count": 9,
   "metadata": {},
   "outputs": [],
   "source": [
    "# import statements\n",
    "from time import sleep\n",
    "from json import dumps\n",
    "from kafka import KafkaProducer\n",
    "import random\n",
    "import csv\n",
    "import itertools"
   ]
  },
  {
   "cell_type": "code",
   "execution_count": 29,
   "metadata": {
    "scrolled": false
   },
   "outputs": [
    {
     "name": "stdout",
     "output_type": "stream",
     "text": [
      "Publishing records..\n",
      "1. length1440, 12/1/2020 08:00:00 AM. last 12/1/2020 11:00:00 PM\n",
      "2. length1440, 12/2/2020 08:00:00 AM. last 12/2/2020 11:00:00 PM\n",
      "3. length1440, 12/3/2020 08:00:00 AM. last 12/3/2020 11:00:00 PM\n",
      "4. length1440, 12/4/2020 08:00:00 AM. last 12/4/2020 11:00:00 PM\n",
      "5. length1440, 12/5/2020 08:00:00 AM. last 12/5/2020 11:00:00 PM\n",
      "6. length1440, 12/6/2020 08:00:00 AM. last 12/6/2020 11:00:00 PM\n",
      "7. length1440, 12/7/2020 08:00:00 AM. last 12/7/2020 11:00:00 PM\n",
      "8. length1440, 12/8/2020 08:00:00 AM. last 12/8/2020 11:00:00 PM\n",
      "9. length1440, 12/9/2020 08:00:00 AM. last 12/9/2020 11:00:00 PM\n",
      "10. length1440, 12/10/2020 08:00:00 AM. last 12/10/2020 11:00:00 PM\n",
      "11. length1440, 12/11/2020 08:00:00 AM. last 12/11/2020 11:00:00 PM\n",
      "12. length1440, 12/12/2020 08:00:00 AM. last 12/12/2020 11:00:00 PM\n",
      "13. length1440, 12/13/2020 08:00:00 AM. last 12/13/2020 11:00:00 PM\n",
      "14. length1440, 12/14/2020 08:00:00 AM. last 12/14/2020 11:00:00 PM\n",
      "15. length1440, 12/15/2020 08:00:00 AM. last 12/15/2020 11:00:00 PM\n",
      "16. length1440, 12/16/2020 08:00:00 AM. last 12/16/2020 11:00:00 PM\n",
      "17. length1440, 12/17/2020 08:00:00 AM. last 12/17/2020 11:00:00 PM\n",
      "18. length1440, 12/18/2020 08:00:00 AM. last 12/18/2020 11:00:00 PM\n",
      "19. length1440, 12/19/2020 08:00:00 AM. last 12/19/2020 11:00:00 PM\n",
      "20. length1440, 12/20/2020 08:00:00 AM. last 12/20/2020 11:00:00 PM\n",
      "21. length1440, 12/21/2020 08:00:00 AM. last 12/21/2020 11:00:00 PM\n",
      "22. length1440, 12/22/2020 08:00:00 AM. last 12/22/2020 11:00:00 PM\n",
      "24. length1440, 12/24/2020 08:00:00 AM. last 12/24/2020 11:00:00 PM\n",
      "23. length1440, 12/23/2020 08:00:00 AM. last 12/23/2020 11:00:00 PM\n",
      "25. length1440, 12/25/2020 08:00:00 AM. last 12/25/2020 11:00:00 PM\n",
      "26. length1440, 12/26/2020 08:00:00 AM. last 12/26/2020 11:00:00 PM\n",
      "27. length1440, 12/27/2020 08:00:00 AM. last 12/27/2020 11:00:00 PM\n",
      "28. length1440, 12/28/2020 08:00:00 AM. last 12/28/2020 11:00:00 PM\n",
      "29. length1440, 12/29/2020 08:00:00 AM. last 12/29/2020 11:00:00 PM\n",
      "30. length1440, 12/30/2020 08:00:00 AM. last 12/30/2020 11:00:00 PM\n",
      "31. length1440, 12/31/2020 08:00:00 AM. last 12/31/2020 11:00:00 PM\n"
     ]
    }
   ],
   "source": [
    "def read_csv(fileName):\n",
    "    \n",
    "    data = {}\n",
    "    with open ('Streaming_Pedestrian_December_counts_per_hour.csv',newline = '') as csvfile:\n",
    "        reader = csv.DictReader(csvfile)\n",
    "        for row in reader:\n",
    "            key = row['Mdate']    \n",
    "            if key in data:\n",
    "                data[key].append({k:v for k, v in row.items()}) \n",
    "            else:\n",
    "                data[key] = [{k:v for k, v in row.items()}]\n",
    "    return data\n",
    "\n",
    "\n",
    "\n",
    "def publish_message(producer_instance, topic_name, data):\n",
    "    try:\n",
    "        producer_instance.send(topic_name, data)\n",
    "#         print('Message published successfully. Data: ' + str(data))\n",
    "    except Exception as ex:\n",
    "        print('Exception in publishing message.')\n",
    "        print(str(ex))\n",
    "        \n",
    "def connect_kafka_producer():\n",
    "    _producer = None\n",
    "    try:\n",
    "        _producer = KafkaProducer(bootstrap_servers=['localhost:9092'],\n",
    "                                  value_serializer=lambda x: dumps(x).encode('ascii'),\n",
    "                                  api_version=(0, 10))\n",
    "    except Exception as ex:\n",
    "        print('Exception while connecting Kafka.')\n",
    "        print(str(ex))\n",
    "    finally:\n",
    "        return _producer\n",
    "    \n",
    "if __name__ == '__main__':\n",
    "    \n",
    "    topic = 'Pedestrian_December_counts'\n",
    "    cRows = read_csv('Streaming_Pedestrian_December_counts_per_hour.csv')\n",
    "    \n",
    "    print('Publishing records..')\n",
    "    producer = connect_kafka_producer()\n",
    "        \n",
    "    for key, value in cRows.items():\n",
    "        for each in value:\n",
    "            publish_message(producer,topic,each)\n",
    "        sleep(5)\n",
    "        print(str(key) +'. length' + str(len([item for item in value if item])) + ', 12/' + str(key) + '/2020 08:00:00 AM. last 12/' + str(key) + '/2020 11:00:00 PM')"
   ]
  },
  {
   "cell_type": "code",
   "execution_count": null,
   "metadata": {},
   "outputs": [],
   "source": []
  }
 ],
 "metadata": {
  "kernelspec": {
   "display_name": "Python 3",
   "language": "python",
   "name": "python3"
  },
  "language_info": {
   "codemirror_mode": {
    "name": "ipython",
    "version": 3
   },
   "file_extension": ".py",
   "mimetype": "text/x-python",
   "name": "python",
   "nbconvert_exporter": "python",
   "pygments_lexer": "ipython3",
   "version": "3.8.2"
  }
 },
 "nbformat": 4,
 "nbformat_minor": 4
}
