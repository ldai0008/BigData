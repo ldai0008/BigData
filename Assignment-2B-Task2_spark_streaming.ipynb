{
 "cells": [
  {
   "cell_type": "markdown",
   "metadata": {},
   "source": [
    "# 2. Streaming application using Spark Structured Streaming (55%)"
   ]
  },
  {
   "cell_type": "markdown",
   "metadata": {},
   "source": [
    "### 1. Write code to SparkSession is created using a SparkConf object, which would use two local cores with a proper application name, and use UTC as the timezone"
   ]
  },
  {
   "cell_type": "code",
   "execution_count": 50,
   "metadata": {},
   "outputs": [],
   "source": [
    "# import packge \n",
    "import os\n",
    "os.environ['PYSPARK_SUBMIT_ARGS'] = '--packages org.apache.spark:spark-streaming-kafka-0-10_2.12:3.0.0,org.apache.spark:spark-sql-kafka-0-10_2.12:3.0.0 pyspark-shell'\n",
    "from pyspark import SparkConf\n",
    "from pyspark.sql import SparkSession\n",
    "from pyspark.sql.functions import *\n",
    "import pandas as pd\n",
    "\n",
    "conf = SparkConf().setAppName(\"predict_pedestrian_traffic\").setMaster(\"local[2]\").set(\"spark.sql.session.timeZone\", \"UTC\")\n",
    "spark = SparkSession.builder.config(conf = conf).getOrCreate()"
   ]
  },
  {
   "cell_type": "markdown",
   "metadata": {},
   "source": [
    "### 2. Similar to assignment 2A, write code to define the data schema for the sensor location CSV file, following the data types suggested in the metadata file 1 , with the exception of the “location” columns; then load the CSV file into a dataframe using the schema. a. Use StringType for “location” column"
   ]
  },
  {
   "cell_type": "code",
   "execution_count": 51,
   "metadata": {},
   "outputs": [],
   "source": [
    "# create schema\n",
    "from pyspark.sql.types import *\n",
    "location_schema = StructType(\n",
    "    [StructField('sensor_id',IntegerType(),True),\n",
    "     StructField('sensor_description',StringType(),True),\n",
    "     StructField('sensor_name',StringType(),True),\n",
    "     StructField('installation_date',DateType(),True),\n",
    "     StructField('status',StringType(),True),\n",
    "     StructField('note',StringType(),True),\n",
    "     StructField('direction_1',StringType(),True),\n",
    "     StructField('direction_2',StringType(),True),\n",
    "     StructField('latitude',DoubleType(),True),\n",
    "     StructField('longitude',DoubleType(),True),\n",
    "     StructField('location',StringType(),True)\n",
    "    ])"
   ]
  },
  {
   "cell_type": "code",
   "execution_count": 52,
   "metadata": {},
   "outputs": [],
   "source": [
    "# Read location data as dataframe use the location schema\n",
    "df_location = spark.read.csv('Pedestrian_Counting_System_-_Sensor_Locations.csv', header=True,\n",
    "                    dateFormat=\"yyyy/MM/dd\", schema=location_schema)"
   ]
  },
  {
   "cell_type": "code",
   "execution_count": 53,
   "metadata": {},
   "outputs": [
    {
     "name": "stdout",
     "output_type": "stream",
     "text": [
      "root\n",
      " |-- sensor_id: integer (nullable = true)\n",
      " |-- sensor_description: string (nullable = true)\n",
      " |-- sensor_name: string (nullable = true)\n",
      " |-- installation_date: date (nullable = true)\n",
      " |-- status: string (nullable = true)\n",
      " |-- note: string (nullable = true)\n",
      " |-- direction_1: string (nullable = true)\n",
      " |-- direction_2: string (nullable = true)\n",
      " |-- latitude: double (nullable = true)\n",
      " |-- longitude: double (nullable = true)\n",
      " |-- location: string (nullable = true)\n",
      "\n"
     ]
    }
   ],
   "source": [
    "# display schema\n",
    "df_location.printSchema()"
   ]
  },
  {
   "cell_type": "markdown",
   "metadata": {},
   "source": [
    "### 3. Using the same topic name from the Kafka producers in Task 1, ingest the streaming data into Spark Streaming assuming all data coming in String format"
   ]
  },
  {
   "cell_type": "code",
   "execution_count": 54,
   "metadata": {},
   "outputs": [],
   "source": [
    "# read stream data\n",
    "topic = 'Pedestrian_December_counts'\n",
    "\n",
    "df = spark \\\n",
    "  .readStream \\\n",
    "  .format(\"kafka\") \\\n",
    "  .option(\"kafka.bootstrap.servers\", \"127.0.0.1:9092\") \\\n",
    "  .option(\"subscribe\", topic) \\\n",
    "  .load()"
   ]
  },
  {
   "cell_type": "markdown",
   "metadata": {},
   "source": [
    "### 4. Persist the raw streaming data in parquet format"
   ]
  },
  {
   "cell_type": "code",
   "execution_count": 6,
   "metadata": {},
   "outputs": [],
   "source": [
    "# write data in parquwt format\n",
    "df_sink = df\\\n",
    "    .writeStream\\\n",
    "    .format(\"parquet\")\\\n",
    "    .outputMode(\"append\")\\\n",
    "    .option(\"path\", \"parquet/destination\")\\\n",
    "    .option(\"checkpointLocation\", \"path/to/checkpoint/dir\")\\\n",
    "    .start()"
   ]
  },
  {
   "cell_type": "code",
   "execution_count": 7,
   "metadata": {},
   "outputs": [],
   "source": [
    "df_sink.stop()"
   ]
  },
  {
   "cell_type": "code",
   "execution_count": 8,
   "metadata": {},
   "outputs": [
    {
     "name": "stdout",
     "output_type": "stream",
     "text": [
      "root\n",
      " |-- key: binary (nullable = true)\n",
      " |-- value: binary (nullable = true)\n",
      " |-- topic: string (nullable = true)\n",
      " |-- partition: integer (nullable = true)\n",
      " |-- offset: long (nullable = true)\n",
      " |-- timestamp: timestamp (nullable = true)\n",
      " |-- timestampType: integer (nullable = true)\n",
      "\n"
     ]
    }
   ],
   "source": [
    "df.printSchema()"
   ]
  },
  {
   "cell_type": "markdown",
   "metadata": {},
   "source": [
    "### 5. Then the streaming data format should be transformed into the proper formats following the metadata file schema, similar to assignment 2A"
   ]
  },
  {
   "cell_type": "code",
   "execution_count": 55,
   "metadata": {},
   "outputs": [],
   "source": [
    "# create schema\n",
    "count_schema = StructType(\n",
    "    [StructField('ID',StringType(),True),\n",
    "     StructField('Date_Time',StringType(),True),\n",
    "     StructField('Year',StringType(),True),\n",
    "     StructField('Month',StringType(),True),\n",
    "     StructField('Mdate',StringType(),True),\n",
    "     StructField('Day',StringType(),True),\n",
    "     StructField('Time',StringType(),True),\n",
    "     StructField('Sensor_ID',StringType(),True),\n",
    "     StructField('Sensor_Name',StringType(),True),\n",
    "     StructField('Hourly_Counts',StringType(),True),\n",
    "    ])"
   ]
  },
  {
   "cell_type": "code",
   "execution_count": 56,
   "metadata": {},
   "outputs": [],
   "source": [
    "# convert to string\n",
    "df1 = df.select(from_json(col(\"value\").cast(\"string\"),count_schema).alias('parsed_value'))"
   ]
  },
  {
   "cell_type": "code",
   "execution_count": 57,
   "metadata": {},
   "outputs": [],
   "source": [
    "# check data\n",
    "query = df1.writeStream.format('console').start()"
   ]
  },
  {
   "cell_type": "code",
   "execution_count": 58,
   "metadata": {},
   "outputs": [],
   "source": [
    "query.stop()"
   ]
  },
  {
   "cell_type": "code",
   "execution_count": 59,
   "metadata": {},
   "outputs": [
    {
     "name": "stdout",
     "output_type": "stream",
     "text": [
      "root\n",
      " |-- parsed_value: struct (nullable = true)\n",
      " |    |-- ID: string (nullable = true)\n",
      " |    |-- Date_Time: string (nullable = true)\n",
      " |    |-- Year: string (nullable = true)\n",
      " |    |-- Month: string (nullable = true)\n",
      " |    |-- Mdate: string (nullable = true)\n",
      " |    |-- Day: string (nullable = true)\n",
      " |    |-- Time: string (nullable = true)\n",
      " |    |-- Sensor_ID: string (nullable = true)\n",
      " |    |-- Sensor_Name: string (nullable = true)\n",
      " |    |-- Hourly_Counts: string (nullable = true)\n",
      "\n"
     ]
    }
   ],
   "source": [
    "df1.printSchema()"
   ]
  },
  {
   "cell_type": "code",
   "execution_count": 60,
   "metadata": {},
   "outputs": [],
   "source": [
    "# convert the data by the metadata\n",
    "df2 = df1.select('parsed_value.*')\\\n",
    "    .withColumn('Date_Time', to_timestamp(col('Date_Time'), 'MM/dd/yyyy hh:mm:ss a'))\\\n",
    "    .withColumn('ID', col('ID').cast('int'))\\\n",
    "    .withColumn('Year', col('Year').cast('int'))\\\n",
    "    .withColumn('Mdate', col('Mdate').cast('int'))\\\n",
    "    .withColumn('Time', col('Time').cast('int'))\\\n",
    "    .withColumn('Sensor_ID', col('Sensor_ID').cast('int'))\\\n",
    "    .withColumn('Hourly_Counts', col('Hourly_Counts').cast('int'))"
   ]
  },
  {
   "cell_type": "code",
   "execution_count": 61,
   "metadata": {},
   "outputs": [
    {
     "name": "stdout",
     "output_type": "stream",
     "text": [
      "root\n",
      " |-- ID: integer (nullable = true)\n",
      " |-- Date_Time: timestamp (nullable = true)\n",
      " |-- Year: integer (nullable = true)\n",
      " |-- Month: string (nullable = true)\n",
      " |-- Mdate: integer (nullable = true)\n",
      " |-- Day: string (nullable = true)\n",
      " |-- Time: integer (nullable = true)\n",
      " |-- Sensor_ID: integer (nullable = true)\n",
      " |-- Sensor_Name: string (nullable = true)\n",
      " |-- Hourly_Counts: integer (nullable = true)\n",
      "\n"
     ]
    }
   ],
   "source": [
    "df2.printSchema()"
   ]
  },
  {
   "cell_type": "code",
   "execution_count": 62,
   "metadata": {},
   "outputs": [],
   "source": [
    "query2 = df2.writeStream.format('console').start()"
   ]
  },
  {
   "cell_type": "code",
   "execution_count": 63,
   "metadata": {},
   "outputs": [],
   "source": [
    "query2.stop()"
   ]
  },
  {
   "cell_type": "markdown",
   "metadata": {},
   "source": [
    "### 6. As the purpose of the recommendation is to predict the next day’s pedestrian count\n",
    "between 9am-11:59pm , write code to perform the following transformations to\n",
    "prepare the columns for model prediction.\n",
    "a. Create a date format column named “next_date” which represents the next\n",
    "calendar date of “Date_Time”\n",
    "b. Create the column named “next_Mdate” based on the column “next_date” to\n",
    "include day of the month information\n",
    "c. Create the column named “next_day_week” based on the column “next_date”\n",
    "to include week of the year information\n",
    "d. Create the column named “next_day_of_week” based on the column\n",
    "“next_date” to include day of the week information, assuming Monday being\n",
    "the first day of week\n",
    "e. Rename the column “Hourly_Count” as “prev_count”"
   ]
  },
  {
   "cell_type": "code",
   "execution_count": 64,
   "metadata": {},
   "outputs": [],
   "source": [
    "# add columns\n",
    "df_new = df2.withColumn('next_date', date_add('Date_Time', 1))\\\n",
    "            .withColumn('next_Mdate', dayofmonth('next_date'))\\\n",
    "            .withColumn('next_day_week', weekofyear('next_date'))\\\n",
    "            .withColumn('next_day_of_week', when(dayofweek('next_date')==1,7).otherwise(dayofweek('next_date')-1))\\\n",
    "            .withColumnRenamed('Hourly_Counts', 'prev_count')"
   ]
  },
  {
   "cell_type": "code",
   "execution_count": 65,
   "metadata": {},
   "outputs": [
    {
     "name": "stdout",
     "output_type": "stream",
     "text": [
      "root\n",
      " |-- ID: integer (nullable = true)\n",
      " |-- Date_Time: timestamp (nullable = true)\n",
      " |-- Year: integer (nullable = true)\n",
      " |-- Month: string (nullable = true)\n",
      " |-- Mdate: integer (nullable = true)\n",
      " |-- Day: string (nullable = true)\n",
      " |-- Time: integer (nullable = true)\n",
      " |-- Sensor_ID: integer (nullable = true)\n",
      " |-- Sensor_Name: string (nullable = true)\n",
      " |-- prev_count: integer (nullable = true)\n",
      " |-- next_date: date (nullable = true)\n",
      " |-- next_Mdate: integer (nullable = true)\n",
      " |-- next_day_week: integer (nullable = true)\n",
      " |-- next_day_of_week: integer (nullable = true)\n",
      "\n"
     ]
    }
   ],
   "source": [
    "df_new.printSchema()"
   ]
  },
  {
   "cell_type": "markdown",
   "metadata": {},
   "source": [
    "### 7. Load the machine learning models given, and use the model to predict the next day’s pedestrian count between 9am-11:59pm. Persist the prediction result in parquet format."
   ]
  },
  {
   "cell_type": "code",
   "execution_count": 42,
   "metadata": {},
   "outputs": [],
   "source": [
    "# import pipeline model\n",
    "from pyspark.ml.pipeline import PipelineModel\n",
    "persistedModel = PipelineModel.load('count_estimation_pipeline_model')"
   ]
  },
  {
   "cell_type": "code",
   "execution_count": 43,
   "metadata": {},
   "outputs": [],
   "source": [
    "# transfor data\n",
    "predictionsDF = persistedModel.transform(df_new)"
   ]
  },
  {
   "cell_type": "code",
   "execution_count": 44,
   "metadata": {},
   "outputs": [
    {
     "data": {
      "text/plain": [
       "['ID',\n",
       " 'Date_Time',\n",
       " 'Year',\n",
       " 'Month',\n",
       " 'Mdate',\n",
       " 'Day',\n",
       " 'Time',\n",
       " 'Sensor_ID',\n",
       " 'Sensor_Name',\n",
       " 'prev_count',\n",
       " 'next_date',\n",
       " 'next_Mdate',\n",
       " 'next_day_week',\n",
       " 'next_day_of_week',\n",
       " 'features',\n",
       " 'prediction']"
      ]
     },
     "execution_count": 44,
     "metadata": {},
     "output_type": "execute_result"
    }
   ],
   "source": [
    "predictionsDF.columns"
   ]
  },
  {
   "cell_type": "code",
   "execution_count": 45,
   "metadata": {},
   "outputs": [],
   "source": [
    "# predict the next day’s pedestrian count\n",
    "predictionsDF_query = predictionsDF.filter(col('Time').between(9,23))\\\n",
    "    .writeStream\\\n",
    "    .queryName('prediction_count')\\\n",
    "    .outputMode('append')\\\n",
    "    .format('console')\\\n",
    "    .trigger(processingTime = '5 seconds')\\\n",
    "    .start()"
   ]
  },
  {
   "attachments": {
    "image.png": {
     "image/png": "[encoded data removed]"
    }
   },
   "cell_type": "markdown",
   "metadata": {},
   "source": [
    "![image.png](attachment:image.png)"
   ]
  },
  {
   "cell_type": "code",
   "execution_count": 46,
   "metadata": {},
   "outputs": [],
   "source": [
    "predictionsDF_query.stop()"
   ]
  },
  {
   "cell_type": "code",
   "execution_count": 66,
   "metadata": {},
   "outputs": [],
   "source": [
    "predictionsDF_query_memory = predictionsDF.filter(col('Time').between(9,23))\\\n",
    "    .writeStream\\\n",
    "    .queryName('prediction_count')\\\n",
    "    .outputMode('append')\\\n",
    "    .format('memory')\\\n",
    "    .trigger(processingTime = '5 seconds')\\\n",
    "    .start()"
   ]
  },
  {
   "cell_type": "code",
   "execution_count": 73,
   "metadata": {},
   "outputs": [],
   "source": [
    "# predictionsDF_query_memory.stop()"
   ]
  },
  {
   "cell_type": "code",
   "execution_count": 26,
   "metadata": {},
   "outputs": [],
   "source": [
    "# Persist the prediction result in parquet format \n",
    "predictionsDF_sink = predictionsDF\\\n",
    "    .writeStream\\\n",
    "    .format(\"parquet\")\\\n",
    "    .outputMode(\"append\")\\\n",
    "    .option(\"path\", \"parquet/prediction_count\")\\\n",
    "    .option(\"checkpointLocation\", \"path/to/checkpoint/dir\")\\\n",
    "    .start()"
   ]
  },
  {
   "cell_type": "code",
   "execution_count": 27,
   "metadata": {},
   "outputs": [],
   "source": [
    "predictionsDF_sink.stop()"
   ]
  },
  {
   "cell_type": "markdown",
   "metadata": {},
   "source": [
    "## 8. Using the prediction result, and write code to process the data following the requirements below# "
   ]
  },
  {
   "cell_type": "markdown",
   "metadata": {},
   "source": [
    "a. For each sensor, get the number of hours that the predicted pedestrian count\n",
    "would exceed 2000 on each day (for the hours between 9am-11:59pm). Show\n",
    "them inside the notebook file."
   ]
  },
  {
   "cell_type": "code",
   "execution_count": 67,
   "metadata": {},
   "outputs": [],
   "source": [
    "predictionsDF_new = predictionsDF\\\n",
    "        .filter((col('Time').between(9,23)) & (col('prediction') > 2000))"
   ]
  },
  {
   "cell_type": "code",
   "execution_count": 68,
   "metadata": {},
   "outputs": [],
   "source": [
    "from pyspark.sql.window import Window\n",
    "from pyspark.sql.functions import count\n",
    "w = Window.partitionBy(\"sensor_id\").orderBy(\"Mdate\")"
   ]
  },
  {
   "cell_type": "code",
   "execution_count": 69,
   "metadata": {},
   "outputs": [],
   "source": [
    "predictionsDF_new_agg = predictionsDF_new\\\n",
    "        .select('sensor_id','Mdate','Time',count('Time').over(w).alias('count'))"
   ]
  },
  {
   "cell_type": "code",
   "execution_count": 70,
   "metadata": {},
   "outputs": [
    {
     "name": "stdout",
     "output_type": "stream",
     "text": [
      "root\n",
      " |-- sensor_id: integer (nullable = true)\n",
      " |-- Mdate: integer (nullable = true)\n",
      " |-- Time: integer (nullable = true)\n",
      " |-- count: long (nullable = false)\n",
      "\n"
     ]
    }
   ],
   "source": [
    "predictionsDF_new_agg.printSchema()"
   ]
  },
  {
   "cell_type": "code",
   "execution_count": 71,
   "metadata": {},
   "outputs": [
    {
     "name": "stdout",
     "output_type": "stream",
     "text": [
      "+---------+----------+------------+\n",
      "|sensor_id|date      |num_of_hours|\n",
      "+---------+----------+------------+\n",
      "|1        |2020-12-14|5           |\n",
      "|1        |2020-12-15|3           |\n",
      "|2        |2020-12-14|6           |\n",
      "|2        |2020-12-15|6           |\n",
      "|4        |2020-12-14|6           |\n",
      "|4        |2020-12-15|6           |\n",
      "|5        |2020-12-15|1           |\n",
      "|6        |2020-12-15|1           |\n",
      "|22       |2020-12-14|1           |\n",
      "|22       |2020-12-15|1           |\n",
      "|24       |2020-12-14|1           |\n",
      "|24       |2020-12-15|1           |\n",
      "|41       |2020-12-14|7           |\n",
      "|41       |2020-12-15|7           |\n",
      "|59       |2020-12-14|1           |\n",
      "|63       |2020-12-14|1           |\n",
      "|63       |2020-12-15|1           |\n",
      "|65       |2020-12-14|3           |\n",
      "|65       |2020-12-15|2           |\n",
      "|67       |2020-12-14|2           |\n",
      "+---------+----------+------------+\n",
      "only showing top 20 rows\n",
      "\n"
     ]
    }
   ],
   "source": [
    "spark.sql('''\n",
    "select sensor_id,\n",
    "        to_date(Date_Time) AS date,\n",
    "        Count(time) As num_of_hours\n",
    "From    prediction_count\n",
    "where   prediction > 2000\n",
    "        and time between 9 and 23\n",
    "group by sensor_id, date\n",
    "order by sensor_id, date\n",
    "''').show(truncate = False)"
   ]
  },
  {
   "cell_type": "markdown",
   "metadata": {},
   "source": [
    "b. If any sensor’s hourly count between 9am-11:59pm on the next day is\n",
    "predicted to exceed 2000, combine the result with sensor longitude and\n",
    "latitude information, and write the stream back to Kafka sink using a different\n",
    "topic name\n",
    "i. Hint - you might want to construct key and value columns before\n",
    "writing the stream back to Kafka."
   ]
  },
  {
   "cell_type": "code",
   "execution_count": 33,
   "metadata": {},
   "outputs": [],
   "source": [
    "combin_df_value = predictionsDF.join(df_location, 'Sensor_ID').drop(df_location.sensor_name)\\\n",
    "        .filter((col('Time').between(9,23)) & (col('prediction') > 2000))\\\n",
    "        .select(struct(\n",
    "        'Sensor_Name',\n",
    "        'latitude',\n",
    "        'longitude').alias('value'))"
   ]
  },
  {
   "cell_type": "code",
   "execution_count": 34,
   "metadata": {},
   "outputs": [
    {
     "name": "stdout",
     "output_type": "stream",
     "text": [
      "root\n",
      " |-- value: struct (nullable = false)\n",
      " |    |-- Sensor_ID: integer (nullable = true)\n",
      " |    |-- Sensor_Name: string (nullable = true)\n",
      " |    |-- next_date: date (nullable = true)\n",
      " |    |-- prediction: double (nullable = false)\n",
      " |    |-- latitude: double (nullable = true)\n",
      " |    |-- longitude: double (nullable = true)\n",
      "\n"
     ]
    }
   ],
   "source": [
    "combin_df_value.printSchema()"
   ]
  },
  {
   "cell_type": "code",
   "execution_count": 35,
   "metadata": {},
   "outputs": [],
   "source": [
    "final_conbin_df = combin_df_value\\\n",
    "      .selectExpr(\"CAST(value AS STRING)\") \\\n",
    "      .writeStream \\\n",
    "      .format(\"kafka\") \\\n",
    "      .option(\"kafka.bootstrap.servers\", \"localhost:9092\") \\\n",
    "      .option(\"topic\", \"prediction_of_count_new\") \\\n",
    "      .option('checkpointLocation','kafka/to/prediction')\\\n",
    "      .start()"
   ]
  }
 ],
 "metadata": {
  "kernelspec": {
   "display_name": "Python 3",
   "language": "python",
   "name": "python3"
  },
  "language_info": {
   "codemirror_mode": {
    "name": "ipython",
    "version": 3
   },
   "file_extension": ".py",
   "mimetype": "text/x-python",
   "name": "python",
   "nbconvert_exporter": "python",
   "pygments_lexer": "ipython3",
   "version": "3.8.2"
  }
 },
 "nbformat": 4,
 "nbformat_minor": 4
}
